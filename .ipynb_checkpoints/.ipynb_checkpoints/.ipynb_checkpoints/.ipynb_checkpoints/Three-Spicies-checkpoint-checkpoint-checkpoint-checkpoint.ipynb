{
 "cells": [
  {
   "cell_type": "code",
   "execution_count": null,
   "id": "ed4944dd-2afe-46b6-b4f4-12990d0a5aff",
   "metadata": {
    "tags": []
   },
   "outputs": [],
   "source": [
    "import pandas as pd \n",
    "import keras\n",
    "import numpy as np\n",
    "from matplotlib.pyplot import *\n",
    "from matplotlib import pyplot as plt\n",
    "import tensorflow as tf\n",
    "from sklearn import datasets, model_selection, preprocessing\n",
    "tf.__version__\n",
    "import tensorflow.compat.v1 as tf\n",
    "tf.disable_v2_behavior()\n",
    "#import necessary libraries\n",
    "from matplotlib import pyplot as plt\n",
    "import scipy.ndimage as nd\n",
    "%matplotlib inline\n",
    "import pylab as pl\n",
    "from IPython import display\n",
    "from keras.preprocessing.image import ImageDataGenerator\n",
    "import itertools\n",
    "import cv2"
   ]
  },
  {
   "cell_type": "code",
   "execution_count": null,
   "id": "c71304e0-0ede-4a19-a283-81d6ec37fc6e",
   "metadata": {},
   "outputs": [],
   "source": [
    "IMSIZE = [224,224]\n",
    "BATCH = 32\n",
    "dvc_path =\"C:/Users/Yuval/anaconda3/Gilat\"\n",
    "split_sizes = {\"train\": 1000, \"validation\":1000, \"test\":1000}\n",
    "datagen = ImageDataGenerator(rescale=1/255)\n",
    "a = ''\n",
    "b = ''\n",
    "list_models = []\n",
    "list_preds = []\n",
    "\n",
    "\n",
    "def plot_images(x, y,**kwargs):\n",
    "    global a, b\n",
    "    a = pair[0]\n",
    "    b = pair[1]\n",
    "    n_pix = int(np.sqrt(np.prod(x.shape[1:3]))) #assumes images are square\n",
    "    im_indices = np.random.choice(x.shape[0], 36, replace=False) #Pick 36 images randomaly without sorting\n",
    "    fig, axes = subplots(nrows=6,ncols=6, figsize=(10,10), sharex=True, sharey=True, frameon=False)\n",
    "    for i,ax in enumerate(axes.flat):\n",
    "        ax.get_xaxis().set_visible(False)\n",
    "        ax.get_yaxis().set_visible(False)\n",
    "        curr_i = im_indices[i]\n",
    "        ax.imshow(x[curr_i].reshape(n_pix,n_pix, 3), aspect=\"auto\", **kwargs)\n",
    "        if y[curr_i]==0:\n",
    "            ax.text(10,20,pair[0], fontdict={\"backgroundcolor\": \"gray\",\"color\": \"white\" })\n",
    "        else:\n",
    "              ax.text(10,20,pair[1], fontdict={\"backgroundcolor\": \"gray\",\"color\": \"white\" })\n",
    "        #ax.set_title(title)\n",
    "        ax.axis('off')\n",
    "    plt.tight_layout(h_pad=0, w_pad=0)\n",
    "    \n",
    "def get_image(path):\n",
    "    img = cv2.imread(path)\n",
    "    img = cv2.resize(img, (224, 224))\n",
    "    img = array(img).reshape([1,224,224,3]) #img = img.reshape([1,224,224,3])\n",
    "    return img    \n"
   ]
  }
 ],
 "metadata": {
  "kernelspec": {
   "display_name": "Python 3 (ipykernel)",
   "language": "python",
   "name": "python3"
  },
  "language_info": {
   "codemirror_mode": {
    "name": "ipython",
    "version": 3
   },
   "file_extension": ".py",
   "mimetype": "text/x-python",
   "name": "python",
   "nbconvert_exporter": "python",
   "pygments_lexer": "ipython3",
   "version": "3.9.12"
  }
 },
 "nbformat": 4,
 "nbformat_minor": 5
}
